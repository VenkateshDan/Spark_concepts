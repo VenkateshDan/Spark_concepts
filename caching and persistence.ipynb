{
 "cells": [
  {
   "cell_type": "code",
   "execution_count": 1,
   "id": "ae3b4ad2-70e3-403e-bddb-46b355cb73bf",
   "metadata": {},
   "outputs": [],
   "source": [
    "import warnings\n",
    "warnings.filterwarnings(\"ignore\")"
   ]
  },
  {
   "cell_type": "code",
   "execution_count": 2,
   "id": "5fca422f-0030-4d13-a545-9ab56f4803c7",
   "metadata": {},
   "outputs": [],
   "source": [
    "from IPython.core.interactiveshell import InteractiveShell\n",
    "InteractiveShell.ast_node_interactivity = 'all'"
   ]
  },
  {
   "cell_type": "code",
   "execution_count": 3,
   "id": "d51e0055-c810-4225-ab5b-14f261318c86",
   "metadata": {},
   "outputs": [],
   "source": [
    "from pyspark.storagelevel import StorageLevel\n",
    "from pyspark.sql.types import *\n",
    "import pyspark.sql.functions as F\n",
    "from pyspark.sql import SparkSession"
   ]
  },
  {
   "cell_type": "code",
   "execution_count": 4,
   "id": "23b2fa5c-2c27-466d-a971-029c981e73d3",
   "metadata": {},
   "outputs": [],
   "source": [
    "spark = (\n",
    "    SparkSession\n",
    "    .builder\n",
    "    .config(\"spark.driver.memory\", \"10g\")\n",
    "    .config(\"spark.sql.files.maxPartitionBytes\", \"268435456\")\n",
    "    .config(\"spark.serializer\", \"org.apache.spark.serializer.KryoSerializer\")\n",
    "    .master(\"local[*]\")\n",
    "    .getOrCreate()\n",
    ")\n",
    "sc = spark.sparkContext\n",
    "sc.setLogLevel(\"ERROR\")"
   ]
  },
  {
   "cell_type": "code",
   "execution_count": 5,
   "id": "6d2c079d-5f53-4169-80ab-b28b2799fd33",
   "metadata": {},
   "outputs": [],
   "source": [
    "customers_file = \"part-00000-7951754c-3166-4cb7-8227-a5760c654c14-c000.snappy.parquet\""
   ]
  },
  {
   "cell_type": "code",
   "execution_count": 6,
   "id": "2c517e72-28ac-4a3b-9ee3-a0635fbbe642",
   "metadata": {},
   "outputs": [],
   "source": [
    "df_customers = spark.read.parquet(customers_file)"
   ]
  },
  {
   "cell_type": "code",
   "execution_count": 7,
   "id": "aa09b956-b3ea-4753-a170-b44f2ad550b8",
   "metadata": {},
   "outputs": [
    {
     "name": "stdout",
     "output_type": "stream",
     "text": [
      "+----------+-------------+---+------+----------+-----+-----------+\n",
      "|cust_id   |name         |age|gender|birthday  |zip  |city       |\n",
      "+----------+-------------+---+------+----------+-----+-----------+\n",
      "|C007YEYTX9|Aaron Abbott |34 |Female|7/13/1991 |97823|boston     |\n",
      "|C00B971T1J|Aaron Austin |37 |Female|12/16/2004|30332|chicago    |\n",
      "|C00WRSJF1Q|Aaron Barnes |29 |Female|3/11/1977 |23451|denver     |\n",
      "|C01AZWQMF3|Aaron Barrett|31 |Male  |7/9/1998  |46613|los_angeles|\n",
      "|C01BKUFRHA|Aaron Becker |54 |Male  |11/24/1979|40284|san_diego  |\n",
      "+----------+-------------+---+------+----------+-----+-----------+\n",
      "only showing top 5 rows\n",
      "\n"
     ]
    }
   ],
   "source": [
    "df_customers.show(5, False)"
   ]
  },
  {
   "cell_type": "code",
   "execution_count": 8,
   "id": "84208407-736b-4bb5-84e2-5bdbb1e25262",
   "metadata": {},
   "outputs": [],
   "source": [
    "df_base = (\n",
    "    df_customers\n",
    "    .filter(F.col(\"city\") == \"boston\")\n",
    "    .withColumn(\n",
    "        \"customer_group\", \n",
    "        F.when(\n",
    "            F.col(\"age\").between(20, 30), \n",
    "            F.lit(\"young\") \n",
    "        )\n",
    "        .when(\n",
    "            F.col(\"age\").between(31, 50), \n",
    "            F.lit(\"mid\") \n",
    "        )\n",
    "        .when(\n",
    "            F.col(\"age\") > 51, \n",
    "            F.lit(\"old\") \n",
    "        )\n",
    "        .otherwise(F.lit(\"kid\"))\n",
    "     )\n",
    "    .select(\"cust_id\", \"name\", \"age\", \"gender\", \"birthday\", \"zip\", \"city\", \"customer_group\")\n",
    ")"
   ]
  },
  {
   "cell_type": "code",
   "execution_count": 16,
   "id": "ff9c4e15-40aa-4d86-a51d-3b4fa8986da9",
   "metadata": {},
   "outputs": [
    {
     "data": {
      "text/plain": [
       "DataFrame[cust_id: string, name: string, age: string, gender: string, birthday: string, zip: string, city: string, customer_group: string]"
      ]
     },
     "execution_count": 16,
     "metadata": {},
     "output_type": "execute_result"
    },
    {
     "name": "stdout",
     "output_type": "stream",
     "text": [
      "+----------+--------------+---+------+---------+-----+------+--------------+\n",
      "|cust_id   |name          |age|gender|birthday |zip  |city  |customer_group|\n",
      "+----------+--------------+---+------+---------+-----+------+--------------+\n",
      "|C007YEYTX9|Aaron Abbott  |34 |Female|7/13/1991|97823|boston|mid           |\n",
      "|C08XAQUY73|Aaron Lambert |54 |Female|11/5/1966|75218|boston|old           |\n",
      "|C094P1VXF9|Aaron Lindsey |24 |Male  |9/21/1990|29399|boston|young         |\n",
      "|C097SHE1EF|Aaron Lopez   |22 |Female|4/18/2001|82129|boston|young         |\n",
      "|C0DTC6436T|Aaron Schwartz|52 |Female|7/9/1962 |57192|boston|old           |\n",
      "+----------+--------------+---+------+---------+-----+------+--------------+\n",
      "only showing top 5 rows\n",
      "\n"
     ]
    }
   ],
   "source": [
    "df_base.cache() \n",
    "df_base.show(5, False)"
   ]
  },
  {
   "cell_type": "code",
   "execution_count": 17,
   "id": "2bf9acd6-0227-44ba-8cde-c77d21473c8d",
   "metadata": {},
   "outputs": [],
   "source": [
    "df1 = (\n",
    "    df_base\n",
    "    .withColumn(\"test_column_1\", F.lit(\"test_column_1\"))\n",
    "    .withColumn(\"birth_year\", F.split(\"birthday\", \"/\").getItem(2))\n",
    ")\n",
    "\n"
   ]
  },
  {
   "cell_type": "code",
   "execution_count": 18,
   "id": "86b88a07-7342-459e-9766-4cdaacd8d89d",
   "metadata": {},
   "outputs": [
    {
     "name": "stdout",
     "output_type": "stream",
     "text": [
      "== Parsed Logical Plan ==\n",
      "'Project [cust_id#0, name#1, age#2, gender#3, birthday#4, zip#5, city#6, customer_group#44, test_column_1#1007, split('birthday, /, -1)[2] AS birth_year#1017]\n",
      "+- Project [cust_id#0, name#1, age#2, gender#3, birthday#4, zip#5, city#6, customer_group#44, test_column_1 AS test_column_1#1007]\n",
      "   +- Project [cust_id#0, name#1, age#2, gender#3, birthday#4, zip#5, city#6, customer_group#44]\n",
      "      +- Project [cust_id#0, name#1, age#2, gender#3, birthday#4, zip#5, city#6, CASE WHEN ((cast(age#2 as int) >= 20) AND (cast(age#2 as int) <= 30)) THEN young WHEN ((cast(age#2 as int) >= 31) AND (cast(age#2 as int) <= 50)) THEN mid WHEN (cast(age#2 as int) > 51) THEN old ELSE kid END AS customer_group#44]\n",
      "         +- Filter (city#6 = boston)\n",
      "            +- Relation [cust_id#0,name#1,age#2,gender#3,birthday#4,zip#5,city#6] parquet\n",
      "\n",
      "== Analyzed Logical Plan ==\n",
      "cust_id: string, name: string, age: string, gender: string, birthday: string, zip: string, city: string, customer_group: string, test_column_1: string, birth_year: string\n",
      "Project [cust_id#0, name#1, age#2, gender#3, birthday#4, zip#5, city#6, customer_group#44, test_column_1#1007, split(birthday#4, /, -1)[2] AS birth_year#1017]\n",
      "+- Project [cust_id#0, name#1, age#2, gender#3, birthday#4, zip#5, city#6, customer_group#44, test_column_1 AS test_column_1#1007]\n",
      "   +- Project [cust_id#0, name#1, age#2, gender#3, birthday#4, zip#5, city#6, customer_group#44]\n",
      "      +- Project [cust_id#0, name#1, age#2, gender#3, birthday#4, zip#5, city#6, CASE WHEN ((cast(age#2 as int) >= 20) AND (cast(age#2 as int) <= 30)) THEN young WHEN ((cast(age#2 as int) >= 31) AND (cast(age#2 as int) <= 50)) THEN mid WHEN (cast(age#2 as int) > 51) THEN old ELSE kid END AS customer_group#44]\n",
      "         +- Filter (city#6 = boston)\n",
      "            +- Relation [cust_id#0,name#1,age#2,gender#3,birthday#4,zip#5,city#6] parquet\n",
      "\n",
      "== Optimized Logical Plan ==\n",
      "Project [cust_id#0, name#1, age#2, gender#3, birthday#4, zip#5, city#6, customer_group#44, test_column_1 AS test_column_1#1007, split(birthday#4, /, -1)[2] AS birth_year#1017]\n",
      "+- InMemoryRelation [cust_id#0, name#1, age#2, gender#3, birthday#4, zip#5, city#6, customer_group#44], StorageLevel(disk, memory, deserialized, 1 replicas)\n",
      "      +- *(1) Project [cust_id#0, name#1, age#2, gender#3, birthday#4, zip#5, city#6, CASE WHEN ((cast(age#2 as int) >= 20) AND (cast(age#2 as int) <= 30)) THEN young WHEN ((cast(age#2 as int) >= 31) AND (cast(age#2 as int) <= 50)) THEN mid WHEN (cast(age#2 as int) > 51) THEN old ELSE kid END AS customer_group#44]\n",
      "         +- *(1) Filter (isnotnull(city#6) AND (city#6 = boston))\n",
      "            +- *(1) ColumnarToRow\n",
      "               +- FileScan parquet [cust_id#0,name#1,age#2,gender#3,birthday#4,zip#5,city#6] Batched: true, DataFilters: [isnotnull(city#6), (city#6 = boston)], Format: Parquet, Location: InMemoryFileIndex(1 paths)[file:/home/jovyan/part-00000-7951754c-3166-4cb7-8227-a5760c654c14-c000..., PartitionFilters: [], PushedFilters: [IsNotNull(city), EqualTo(city,boston)], ReadSchema: struct<cust_id:string,name:string,age:string,gender:string,birthday:string,zip:string,city:string>\n",
      "\n",
      "== Physical Plan ==\n",
      "AdaptiveSparkPlan isFinalPlan=false\n",
      "+- Project [cust_id#0, name#1, age#2, gender#3, birthday#4, zip#5, city#6, customer_group#44, test_column_1 AS test_column_1#1007, split(birthday#4, /, -1)[2] AS birth_year#1017]\n",
      "   +- InMemoryTableScan [age#2, birthday#4, city#6, cust_id#0, customer_group#44, gender#3, name#1, zip#5]\n",
      "         +- InMemoryRelation [cust_id#0, name#1, age#2, gender#3, birthday#4, zip#5, city#6, customer_group#44], StorageLevel(disk, memory, deserialized, 1 replicas)\n",
      "               +- *(1) Project [cust_id#0, name#1, age#2, gender#3, birthday#4, zip#5, city#6, CASE WHEN ((cast(age#2 as int) >= 20) AND (cast(age#2 as int) <= 30)) THEN young WHEN ((cast(age#2 as int) >= 31) AND (cast(age#2 as int) <= 50)) THEN mid WHEN (cast(age#2 as int) > 51) THEN old ELSE kid END AS customer_group#44]\n",
      "                  +- *(1) Filter (isnotnull(city#6) AND (city#6 = boston))\n",
      "                     +- *(1) ColumnarToRow\n",
      "                        +- FileScan parquet [cust_id#0,name#1,age#2,gender#3,birthday#4,zip#5,city#6] Batched: true, DataFilters: [isnotnull(city#6), (city#6 = boston)], Format: Parquet, Location: InMemoryFileIndex(1 paths)[file:/home/jovyan/part-00000-7951754c-3166-4cb7-8227-a5760c654c14-c000..., PartitionFilters: [], PushedFilters: [IsNotNull(city), EqualTo(city,boston)], ReadSchema: struct<cust_id:string,name:string,age:string,gender:string,birthday:string,zip:string,city:string>\n",
      "\n",
      "+----------+--------------+---+------+---------+-----+------+--------------+-------------+----------+\n",
      "|cust_id   |name          |age|gender|birthday |zip  |city  |customer_group|test_column_1|birth_year|\n",
      "+----------+--------------+---+------+---------+-----+------+--------------+-------------+----------+\n",
      "|C007YEYTX9|Aaron Abbott  |34 |Female|7/13/1991|97823|boston|mid           |test_column_1|1991      |\n",
      "|C08XAQUY73|Aaron Lambert |54 |Female|11/5/1966|75218|boston|old           |test_column_1|1966      |\n",
      "|C094P1VXF9|Aaron Lindsey |24 |Male  |9/21/1990|29399|boston|young         |test_column_1|1990      |\n",
      "|C097SHE1EF|Aaron Lopez   |22 |Female|4/18/2001|82129|boston|young         |test_column_1|2001      |\n",
      "|C0DTC6436T|Aaron Schwartz|52 |Female|7/9/1962 |57192|boston|old           |test_column_1|1962      |\n",
      "+----------+--------------+---+------+---------+-----+------+--------------+-------------+----------+\n",
      "only showing top 5 rows\n",
      "\n"
     ]
    }
   ],
   "source": [
    "df1.explain(True)\n",
    "df1.show(5, False)"
   ]
  },
  {
   "cell_type": "code",
   "execution_count": 19,
   "id": "1287a0a7-dff9-45aa-9812-debca773e126",
   "metadata": {},
   "outputs": [
    {
     "name": "stdout",
     "output_type": "stream",
     "text": [
      "== Parsed Logical Plan ==\n",
      "'Project [cust_id#0, name#1, age#2, gender#3, birthday#4, zip#5, city#6, customer_group#44, test_column_2#1349, split('birthday, /, -1)[1] AS birth_month#1359]\n",
      "+- Project [cust_id#0, name#1, age#2, gender#3, birthday#4, zip#5, city#6, customer_group#44, test_column_2 AS test_column_2#1349]\n",
      "   +- Project [cust_id#0, name#1, age#2, gender#3, birthday#4, zip#5, city#6, customer_group#44]\n",
      "      +- Project [cust_id#0, name#1, age#2, gender#3, birthday#4, zip#5, city#6, CASE WHEN ((cast(age#2 as int) >= 20) AND (cast(age#2 as int) <= 30)) THEN young WHEN ((cast(age#2 as int) >= 31) AND (cast(age#2 as int) <= 50)) THEN mid WHEN (cast(age#2 as int) > 51) THEN old ELSE kid END AS customer_group#44]\n",
      "         +- Filter (city#6 = boston)\n",
      "            +- Relation [cust_id#0,name#1,age#2,gender#3,birthday#4,zip#5,city#6] parquet\n",
      "\n",
      "== Analyzed Logical Plan ==\n",
      "cust_id: string, name: string, age: string, gender: string, birthday: string, zip: string, city: string, customer_group: string, test_column_2: string, birth_month: string\n",
      "Project [cust_id#0, name#1, age#2, gender#3, birthday#4, zip#5, city#6, customer_group#44, test_column_2#1349, split(birthday#4, /, -1)[1] AS birth_month#1359]\n",
      "+- Project [cust_id#0, name#1, age#2, gender#3, birthday#4, zip#5, city#6, customer_group#44, test_column_2 AS test_column_2#1349]\n",
      "   +- Project [cust_id#0, name#1, age#2, gender#3, birthday#4, zip#5, city#6, customer_group#44]\n",
      "      +- Project [cust_id#0, name#1, age#2, gender#3, birthday#4, zip#5, city#6, CASE WHEN ((cast(age#2 as int) >= 20) AND (cast(age#2 as int) <= 30)) THEN young WHEN ((cast(age#2 as int) >= 31) AND (cast(age#2 as int) <= 50)) THEN mid WHEN (cast(age#2 as int) > 51) THEN old ELSE kid END AS customer_group#44]\n",
      "         +- Filter (city#6 = boston)\n",
      "            +- Relation [cust_id#0,name#1,age#2,gender#3,birthday#4,zip#5,city#6] parquet\n",
      "\n",
      "== Optimized Logical Plan ==\n",
      "Project [cust_id#0, name#1, age#2, gender#3, birthday#4, zip#5, city#6, customer_group#44, test_column_2 AS test_column_2#1349, split(birthday#4, /, -1)[1] AS birth_month#1359]\n",
      "+- InMemoryRelation [cust_id#0, name#1, age#2, gender#3, birthday#4, zip#5, city#6, customer_group#44], StorageLevel(disk, memory, deserialized, 1 replicas)\n",
      "      +- *(1) Project [cust_id#0, name#1, age#2, gender#3, birthday#4, zip#5, city#6, CASE WHEN ((cast(age#2 as int) >= 20) AND (cast(age#2 as int) <= 30)) THEN young WHEN ((cast(age#2 as int) >= 31) AND (cast(age#2 as int) <= 50)) THEN mid WHEN (cast(age#2 as int) > 51) THEN old ELSE kid END AS customer_group#44]\n",
      "         +- *(1) Filter (isnotnull(city#6) AND (city#6 = boston))\n",
      "            +- *(1) ColumnarToRow\n",
      "               +- FileScan parquet [cust_id#0,name#1,age#2,gender#3,birthday#4,zip#5,city#6] Batched: true, DataFilters: [isnotnull(city#6), (city#6 = boston)], Format: Parquet, Location: InMemoryFileIndex(1 paths)[file:/home/jovyan/part-00000-7951754c-3166-4cb7-8227-a5760c654c14-c000..., PartitionFilters: [], PushedFilters: [IsNotNull(city), EqualTo(city,boston)], ReadSchema: struct<cust_id:string,name:string,age:string,gender:string,birthday:string,zip:string,city:string>\n",
      "\n",
      "== Physical Plan ==\n",
      "AdaptiveSparkPlan isFinalPlan=false\n",
      "+- Project [cust_id#0, name#1, age#2, gender#3, birthday#4, zip#5, city#6, customer_group#44, test_column_2 AS test_column_2#1349, split(birthday#4, /, -1)[1] AS birth_month#1359]\n",
      "   +- InMemoryTableScan [age#2, birthday#4, city#6, cust_id#0, customer_group#44, gender#3, name#1, zip#5]\n",
      "         +- InMemoryRelation [cust_id#0, name#1, age#2, gender#3, birthday#4, zip#5, city#6, customer_group#44], StorageLevel(disk, memory, deserialized, 1 replicas)\n",
      "               +- *(1) Project [cust_id#0, name#1, age#2, gender#3, birthday#4, zip#5, city#6, CASE WHEN ((cast(age#2 as int) >= 20) AND (cast(age#2 as int) <= 30)) THEN young WHEN ((cast(age#2 as int) >= 31) AND (cast(age#2 as int) <= 50)) THEN mid WHEN (cast(age#2 as int) > 51) THEN old ELSE kid END AS customer_group#44]\n",
      "                  +- *(1) Filter (isnotnull(city#6) AND (city#6 = boston))\n",
      "                     +- *(1) ColumnarToRow\n",
      "                        +- FileScan parquet [cust_id#0,name#1,age#2,gender#3,birthday#4,zip#5,city#6] Batched: true, DataFilters: [isnotnull(city#6), (city#6 = boston)], Format: Parquet, Location: InMemoryFileIndex(1 paths)[file:/home/jovyan/part-00000-7951754c-3166-4cb7-8227-a5760c654c14-c000..., PartitionFilters: [], PushedFilters: [IsNotNull(city), EqualTo(city,boston)], ReadSchema: struct<cust_id:string,name:string,age:string,gender:string,birthday:string,zip:string,city:string>\n",
      "\n",
      "+----------+--------------+---+------+---------+-----+------+--------------+-------------+-----------+\n",
      "|cust_id   |name          |age|gender|birthday |zip  |city  |customer_group|test_column_2|birth_month|\n",
      "+----------+--------------+---+------+---------+-----+------+--------------+-------------+-----------+\n",
      "|C007YEYTX9|Aaron Abbott  |34 |Female|7/13/1991|97823|boston|mid           |test_column_2|13         |\n",
      "|C08XAQUY73|Aaron Lambert |54 |Female|11/5/1966|75218|boston|old           |test_column_2|5          |\n",
      "|C094P1VXF9|Aaron Lindsey |24 |Male  |9/21/1990|29399|boston|young         |test_column_2|21         |\n",
      "|C097SHE1EF|Aaron Lopez   |22 |Female|4/18/2001|82129|boston|young         |test_column_2|18         |\n",
      "|C0DTC6436T|Aaron Schwartz|52 |Female|7/9/1962 |57192|boston|old           |test_column_2|9          |\n",
      "+----------+--------------+---+------+---------+-----+------+--------------+-------------+-----------+\n",
      "only showing top 5 rows\n",
      "\n"
     ]
    }
   ],
   "source": [
    "df2 = (\n",
    "    df_base\n",
    "    .withColumn(\"test_column_2\", F.lit(\"test_column_2\"))\n",
    "    .withColumn(\"birth_month\", F.split(\"birthday\", \"/\").getItem(1))\n",
    ")\n",
    "\n",
    "df2.explain(True)\n",
    "df2.show(5, False)"
   ]
  },
  {
   "cell_type": "code",
   "execution_count": null,
   "id": "d307f0b3-2411-46b6-a602-5408fb10ec98",
   "metadata": {},
   "outputs": [],
   "source": []
  }
 ],
 "metadata": {
  "kernelspec": {
   "display_name": "Python 3 (ipykernel)",
   "language": "python",
   "name": "python3"
  },
  "language_info": {
   "codemirror_mode": {
    "name": "ipython",
    "version": 3
   },
   "file_extension": ".py",
   "mimetype": "text/x-python",
   "name": "python",
   "nbconvert_exporter": "python",
   "pygments_lexer": "ipython3",
   "version": "3.11.6"
  }
 },
 "nbformat": 4,
 "nbformat_minor": 5
}
