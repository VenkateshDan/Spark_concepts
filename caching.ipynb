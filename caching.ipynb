{
 "cells": [
  {
   "cell_type": "code",
   "execution_count": 1,
   "id": "905312ba-6cf0-4de5-9ade-08c7d0591999",
   "metadata": {},
   "outputs": [],
   "source": [
    "import warnings\n",
    "warnings.filterwarnings(\"ignore\")"
   ]
  },
  {
   "cell_type": "code",
   "execution_count": 2,
   "id": "44dda33a-75ce-44fe-afcc-783c1df3f807",
   "metadata": {},
   "outputs": [],
   "source": [
    "from IPython.core.interactiveshell import InteractiveShell\n",
    "InteractiveShell.ast_node_interactivity = 'all'"
   ]
  },
  {
   "cell_type": "code",
   "execution_count": 3,
   "id": "db6b35b4-b295-4aa5-8b0c-65d1d72e9f0d",
   "metadata": {},
   "outputs": [],
   "source": [
    "from pyspark.storagelevel import StorageLevel\n",
    "from pyspark.sql.types import *\n",
    "import pyspark.sql.functions as F\n",
    "from pyspark.sql import SparkSession"
   ]
  },
  {
   "cell_type": "code",
   "execution_count": 4,
   "id": "82803dca-dc91-49f8-87e3-3bfbb0052f0a",
   "metadata": {},
   "outputs": [],
   "source": [
    "spark = (\n",
    "    SparkSession\n",
    "    .builder\n",
    "    .config(\"spark.driver.memory\", \"10g\")\n",
    "    .config(\"spark.sql.files.maxPartitionBytes\", \"268435456\")\n",
    "    .config(\"spark.serializer\", \"org.apache.spark.serializer.KryoSerializer\")\n",
    "    .master(\"local[*]\")\n",
    "    .getOrCreate()\n",
    ")\n",
    "sc = spark.sparkContext\n",
    "sc.setLogLevel(\"ERROR\")"
   ]
  },
  {
   "cell_type": "code",
   "execution_count": 7,
   "id": "b49228b9-ec54-4116-9644-f70ce52f9d83",
   "metadata": {},
   "outputs": [],
   "source": [
    "customers_file = \"part-00000-7951754c-3166-4cb7-8227-a5760c654c14-c000.snappy.parquet\""
   ]
  },
  {
   "cell_type": "code",
   "execution_count": 8,
   "id": "4dac2208-dff3-4343-9906-04d3976858bb",
   "metadata": {},
   "outputs": [],
   "source": [
    "df_customers = spark.read.parquet(customers_file)"
   ]
  },
  {
   "cell_type": "code",
   "execution_count": 9,
   "id": "0df4bfe6-424c-4d09-ad4a-d50ea6584870",
   "metadata": {},
   "outputs": [
    {
     "name": "stdout",
     "output_type": "stream",
     "text": [
      "+----------+-------------+---+------+----------+-----+-----------+\n",
      "|cust_id   |name         |age|gender|birthday  |zip  |city       |\n",
      "+----------+-------------+---+------+----------+-----+-----------+\n",
      "|C007YEYTX9|Aaron Abbott |34 |Female|7/13/1991 |97823|boston     |\n",
      "|C00B971T1J|Aaron Austin |37 |Female|12/16/2004|30332|chicago    |\n",
      "|C00WRSJF1Q|Aaron Barnes |29 |Female|3/11/1977 |23451|denver     |\n",
      "|C01AZWQMF3|Aaron Barrett|31 |Male  |7/9/1998  |46613|los_angeles|\n",
      "|C01BKUFRHA|Aaron Becker |54 |Male  |11/24/1979|40284|san_diego  |\n",
      "+----------+-------------+---+------+----------+-----+-----------+\n",
      "only showing top 5 rows\n",
      "\n"
     ]
    }
   ],
   "source": [
    "df_customers.show(5, False)"
   ]
  },
  {
   "cell_type": "code",
   "execution_count": 10,
   "id": "afe73732-0a66-43e5-9328-10c078499f57",
   "metadata": {},
   "outputs": [],
   "source": [
    "# creating df_base dataframe without caching. also creating two df's by using df1 and df2"
   ]
  },
  {
   "cell_type": "code",
   "execution_count": 11,
   "id": "37c3fcb0-43c7-4d2d-961c-50bfaf068b9a",
   "metadata": {},
   "outputs": [],
   "source": [
    "df_base = (\n",
    "    df_customers\n",
    "    .filter(F.col(\"city\") == \"boston\")\n",
    "    .withColumn(\n",
    "        \"customer_group\", \n",
    "        F.when(\n",
    "            F.col(\"age\").between(20, 30), \n",
    "            F.lit(\"young\") \n",
    "        )\n",
    "        .when(\n",
    "            F.col(\"age\").between(31, 50), \n",
    "            F.lit(\"mid\") \n",
    "        )\n",
    "        .when(\n",
    "            F.col(\"age\") > 51, \n",
    "            F.lit(\"old\") \n",
    "        )\n",
    "        .otherwise(F.lit(\"kid\"))\n",
    "     )\n",
    "    .select(\"cust_id\", \"name\", \"age\", \"gender\", \"birthday\", \"zip\", \"city\", \"customer_group\")\n",
    ")"
   ]
  },
  {
   "cell_type": "code",
   "execution_count": 12,
   "id": "18514da1-0c8a-4621-be65-6f789d923d14",
   "metadata": {},
   "outputs": [
    {
     "name": "stdout",
     "output_type": "stream",
     "text": [
      "+----------+--------------+---+------+---------+-----+------+--------------+\n",
      "|cust_id   |name          |age|gender|birthday |zip  |city  |customer_group|\n",
      "+----------+--------------+---+------+---------+-----+------+--------------+\n",
      "|C007YEYTX9|Aaron Abbott  |34 |Female|7/13/1991|97823|boston|mid           |\n",
      "|C08XAQUY73|Aaron Lambert |54 |Female|11/5/1966|75218|boston|old           |\n",
      "|C094P1VXF9|Aaron Lindsey |24 |Male  |9/21/1990|29399|boston|young         |\n",
      "|C097SHE1EF|Aaron Lopez   |22 |Female|4/18/2001|82129|boston|young         |\n",
      "|C0DTC6436T|Aaron Schwartz|52 |Female|7/9/1962 |57192|boston|old           |\n",
      "+----------+--------------+---+------+---------+-----+------+--------------+\n",
      "only showing top 5 rows\n",
      "\n"
     ]
    }
   ],
   "source": [
    "df_base.show(5, False)"
   ]
  },
  {
   "cell_type": "code",
   "execution_count": 13,
   "id": "a0cd4cb4-94e8-4c47-9b99-e2f346832e8f",
   "metadata": {},
   "outputs": [],
   "source": [
    "df1 = (\n",
    "    df_base\n",
    "    .withColumn(\"test_column_1\", F.lit(\"test_column_1\"))\n",
    "    .withColumn(\"birth_year\", F.split(\"birthday\", \"/\").getItem(2))\n",
    ")"
   ]
  },
  {
   "cell_type": "code",
   "execution_count": 14,
   "id": "647d070c-c294-4e96-af40-4c506ac6abde",
   "metadata": {},
   "outputs": [
    {
     "name": "stdout",
     "output_type": "stream",
     "text": [
      "== Parsed Logical Plan ==\n",
      "'Project [cust_id#0, name#1, age#2, gender#3, birthday#4, zip#5, city#6, customer_group#44, test_column_1#94, split('birthday, /, -1)[2] AS birth_year#104]\n",
      "+- Project [cust_id#0, name#1, age#2, gender#3, birthday#4, zip#5, city#6, customer_group#44, test_column_1 AS test_column_1#94]\n",
      "   +- Project [cust_id#0, name#1, age#2, gender#3, birthday#4, zip#5, city#6, customer_group#44]\n",
      "      +- Project [cust_id#0, name#1, age#2, gender#3, birthday#4, zip#5, city#6, CASE WHEN ((cast(age#2 as int) >= 20) AND (cast(age#2 as int) <= 30)) THEN young WHEN ((cast(age#2 as int) >= 31) AND (cast(age#2 as int) <= 50)) THEN mid WHEN (cast(age#2 as int) > 51) THEN old ELSE kid END AS customer_group#44]\n",
      "         +- Filter (city#6 = boston)\n",
      "            +- Relation [cust_id#0,name#1,age#2,gender#3,birthday#4,zip#5,city#6] parquet\n",
      "\n",
      "== Analyzed Logical Plan ==\n",
      "cust_id: string, name: string, age: string, gender: string, birthday: string, zip: string, city: string, customer_group: string, test_column_1: string, birth_year: string\n",
      "Project [cust_id#0, name#1, age#2, gender#3, birthday#4, zip#5, city#6, customer_group#44, test_column_1#94, split(birthday#4, /, -1)[2] AS birth_year#104]\n",
      "+- Project [cust_id#0, name#1, age#2, gender#3, birthday#4, zip#5, city#6, customer_group#44, test_column_1 AS test_column_1#94]\n",
      "   +- Project [cust_id#0, name#1, age#2, gender#3, birthday#4, zip#5, city#6, customer_group#44]\n",
      "      +- Project [cust_id#0, name#1, age#2, gender#3, birthday#4, zip#5, city#6, CASE WHEN ((cast(age#2 as int) >= 20) AND (cast(age#2 as int) <= 30)) THEN young WHEN ((cast(age#2 as int) >= 31) AND (cast(age#2 as int) <= 50)) THEN mid WHEN (cast(age#2 as int) > 51) THEN old ELSE kid END AS customer_group#44]\n",
      "         +- Filter (city#6 = boston)\n",
      "            +- Relation [cust_id#0,name#1,age#2,gender#3,birthday#4,zip#5,city#6] parquet\n",
      "\n",
      "== Optimized Logical Plan ==\n",
      "Project [cust_id#0, name#1, age#2, gender#3, birthday#4, zip#5, city#6, CASE WHEN ((cast(age#2 as int) >= 20) AND (cast(age#2 as int) <= 30)) THEN young WHEN ((cast(age#2 as int) >= 31) AND (cast(age#2 as int) <= 50)) THEN mid WHEN (cast(age#2 as int) > 51) THEN old ELSE kid END AS customer_group#44, test_column_1 AS test_column_1#94, split(birthday#4, /, -1)[2] AS birth_year#104]\n",
      "+- Filter (isnotnull(city#6) AND (city#6 = boston))\n",
      "   +- Relation [cust_id#0,name#1,age#2,gender#3,birthday#4,zip#5,city#6] parquet\n",
      "\n",
      "== Physical Plan ==\n",
      "*(1) Project [cust_id#0, name#1, age#2, gender#3, birthday#4, zip#5, city#6, CASE WHEN ((cast(age#2 as int) >= 20) AND (cast(age#2 as int) <= 30)) THEN young WHEN ((cast(age#2 as int) >= 31) AND (cast(age#2 as int) <= 50)) THEN mid WHEN (cast(age#2 as int) > 51) THEN old ELSE kid END AS customer_group#44, test_column_1 AS test_column_1#94, split(birthday#4, /, -1)[2] AS birth_year#104]\n",
      "+- *(1) Filter (isnotnull(city#6) AND (city#6 = boston))\n",
      "   +- *(1) ColumnarToRow\n",
      "      +- FileScan parquet [cust_id#0,name#1,age#2,gender#3,birthday#4,zip#5,city#6] Batched: true, DataFilters: [isnotnull(city#6), (city#6 = boston)], Format: Parquet, Location: InMemoryFileIndex(1 paths)[file:/home/jovyan/part-00000-7951754c-3166-4cb7-8227-a5760c654c14-c000..., PartitionFilters: [], PushedFilters: [IsNotNull(city), EqualTo(city,boston)], ReadSchema: struct<cust_id:string,name:string,age:string,gender:string,birthday:string,zip:string,city:string>\n",
      "\n"
     ]
    }
   ],
   "source": [
    "df1.explain(True)"
   ]
  },
  {
   "cell_type": "code",
   "execution_count": null,
   "id": "21b353d2-8e9d-47e0-8b89-a01b387e5a59",
   "metadata": {},
   "outputs": [],
   "source": [
    "== Physical Plan ==\n",
    "*(1) Project [cust_id#0, name#1, age#2, gender#3, birthday#4, zip#5, city#6, CASE WHEN ((cast(age#2 as int) >= 20) AND (cast(age#2 as int) <= 30)) THEN young WHEN ((cast(age#2 as int) >= 31) AND (cast(age#2 as int) <= 50)) THEN mid WHEN (cast(age#2 as int) > 51) THEN old ELSE kid END AS customer_group#44, test_column_1 AS test_column_1#94, split(birthday#4, /, -1)[2] AS birth_year#104]\n",
    "+- *(1) Filter (isnotnull(city#6) AND (city#6 = boston))\n",
    "   +- *(1) ColumnarToRow\n",
    "      +- FileScan parquet [cust_id#0,name#1,age#2,gender#3,birthday#4,zip#5,city#6] Batched: true, DataFilters: [isnotnull(city#6), (city#6 = boston)], Format: Parquet, Location: InMemoryFileIndex(1 paths)[file:/home/jovyan/part-00000-7951754c-3166-4cb7-8227-a5760c654c14-c000..., PartitionFilters: [], PushedFilters: [IsNotNull(city), EqualTo(city,boston)], ReadSchema: struct<cust_id:string,name:string,age:string,gender:string,birthday:string,zip:string,city:string>\n"
   ]
  },
  {
   "cell_type": "code",
   "execution_count": 15,
   "id": "eed5c1b3-bcaa-45b5-9e51-8bdf8f1198cf",
   "metadata": {},
   "outputs": [
    {
     "name": "stdout",
     "output_type": "stream",
     "text": [
      "== Parsed Logical Plan ==\n",
      "'Project [cust_id#0, name#1, age#2, gender#3, birthday#4, zip#5, city#6, customer_group#44, test_column_2#115, split('birthday, /, -1)[1] AS birth_month#125]\n",
      "+- Project [cust_id#0, name#1, age#2, gender#3, birthday#4, zip#5, city#6, customer_group#44, test_column_2 AS test_column_2#115]\n",
      "   +- Project [cust_id#0, name#1, age#2, gender#3, birthday#4, zip#5, city#6, customer_group#44]\n",
      "      +- Project [cust_id#0, name#1, age#2, gender#3, birthday#4, zip#5, city#6, CASE WHEN ((cast(age#2 as int) >= 20) AND (cast(age#2 as int) <= 30)) THEN young WHEN ((cast(age#2 as int) >= 31) AND (cast(age#2 as int) <= 50)) THEN mid WHEN (cast(age#2 as int) > 51) THEN old ELSE kid END AS customer_group#44]\n",
      "         +- Filter (city#6 = boston)\n",
      "            +- Relation [cust_id#0,name#1,age#2,gender#3,birthday#4,zip#5,city#6] parquet\n",
      "\n",
      "== Analyzed Logical Plan ==\n",
      "cust_id: string, name: string, age: string, gender: string, birthday: string, zip: string, city: string, customer_group: string, test_column_2: string, birth_month: string\n",
      "Project [cust_id#0, name#1, age#2, gender#3, birthday#4, zip#5, city#6, customer_group#44, test_column_2#115, split(birthday#4, /, -1)[1] AS birth_month#125]\n",
      "+- Project [cust_id#0, name#1, age#2, gender#3, birthday#4, zip#5, city#6, customer_group#44, test_column_2 AS test_column_2#115]\n",
      "   +- Project [cust_id#0, name#1, age#2, gender#3, birthday#4, zip#5, city#6, customer_group#44]\n",
      "      +- Project [cust_id#0, name#1, age#2, gender#3, birthday#4, zip#5, city#6, CASE WHEN ((cast(age#2 as int) >= 20) AND (cast(age#2 as int) <= 30)) THEN young WHEN ((cast(age#2 as int) >= 31) AND (cast(age#2 as int) <= 50)) THEN mid WHEN (cast(age#2 as int) > 51) THEN old ELSE kid END AS customer_group#44]\n",
      "         +- Filter (city#6 = boston)\n",
      "            +- Relation [cust_id#0,name#1,age#2,gender#3,birthday#4,zip#5,city#6] parquet\n",
      "\n",
      "== Optimized Logical Plan ==\n",
      "Project [cust_id#0, name#1, age#2, gender#3, birthday#4, zip#5, city#6, CASE WHEN ((cast(age#2 as int) >= 20) AND (cast(age#2 as int) <= 30)) THEN young WHEN ((cast(age#2 as int) >= 31) AND (cast(age#2 as int) <= 50)) THEN mid WHEN (cast(age#2 as int) > 51) THEN old ELSE kid END AS customer_group#44, test_column_2 AS test_column_2#115, split(birthday#4, /, -1)[1] AS birth_month#125]\n",
      "+- Filter (isnotnull(city#6) AND (city#6 = boston))\n",
      "   +- Relation [cust_id#0,name#1,age#2,gender#3,birthday#4,zip#5,city#6] parquet\n",
      "\n",
      "== Physical Plan ==\n",
      "*(1) Project [cust_id#0, name#1, age#2, gender#3, birthday#4, zip#5, city#6, CASE WHEN ((cast(age#2 as int) >= 20) AND (cast(age#2 as int) <= 30)) THEN young WHEN ((cast(age#2 as int) >= 31) AND (cast(age#2 as int) <= 50)) THEN mid WHEN (cast(age#2 as int) > 51) THEN old ELSE kid END AS customer_group#44, test_column_2 AS test_column_2#115, split(birthday#4, /, -1)[1] AS birth_month#125]\n",
      "+- *(1) Filter (isnotnull(city#6) AND (city#6 = boston))\n",
      "   +- *(1) ColumnarToRow\n",
      "      +- FileScan parquet [cust_id#0,name#1,age#2,gender#3,birthday#4,zip#5,city#6] Batched: true, DataFilters: [isnotnull(city#6), (city#6 = boston)], Format: Parquet, Location: InMemoryFileIndex(1 paths)[file:/home/jovyan/part-00000-7951754c-3166-4cb7-8227-a5760c654c14-c000..., PartitionFilters: [], PushedFilters: [IsNotNull(city), EqualTo(city,boston)], ReadSchema: struct<cust_id:string,name:string,age:string,gender:string,birthday:string,zip:string,city:string>\n",
      "\n"
     ]
    }
   ],
   "source": [
    "df2 = (\n",
    "    df_base\n",
    "    .withColumn(\"test_column_2\", F.lit(\"test_column_2\"))\n",
    "    .withColumn(\"birth_month\", F.split(\"birthday\", \"/\").getItem(1))\n",
    ")\n",
    "\n",
    "df2.explain(True)"
   ]
  },
  {
   "cell_type": "code",
   "execution_count": null,
   "id": "7dce6dd3-1be6-4ecb-8b89-731fe4a1f6c2",
   "metadata": {},
   "outputs": [],
   "source": [
    "== Physical Plan ==\n",
    "*(1) Project [cust_id#0, name#1, age#2, gender#3, birthday#4, zip#5, city#6, CASE WHEN ((cast(age#2 as int) >= 20) AND (cast(age#2 as int) <= 30)) THEN young WHEN ((cast(age#2 as int) >= 31) AND (cast(age#2 as int) <= 50)) THEN mid WHEN (cast(age#2 as int) > 51) THEN old ELSE kid END AS customer_group#44, test_column_2 AS test_column_2#115, split(birthday#4, /, -1)[1] AS birth_month#125]\n",
    "+- *(1) Filter (isnotnull(city#6) AND (city#6 = boston))\n",
    "   +- *(1) ColumnarToRow\n",
    "      +- FileScan parquet [cust_id#0,name#1,age#2,gender#3,birthday#4,zip#5,city#6] Batched: true, DataFilters: [isnotnull(city#6), (city#6 = boston)], Format: Parquet, Location: InMemoryFileIndex(1 paths)[file:/home/jovyan/part-00000-7951754c-3166-4cb7-8227-a5760c654c14-c000..., PartitionFilters: [], PushedFilters: [IsNotNull(city), EqualTo(city,boston)], ReadSchema: struct<cust_id:string,name:string,age:string,gender:string,birthday:string,zip:string,city:string>\n"
   ]
  },
  {
   "cell_type": "code",
   "execution_count": null,
   "id": "eeab2400-66c8-4b4c-a607-a0ad558361cb",
   "metadata": {},
   "outputs": [],
   "source": [
    "#lets cache df_base and create two more df's and check the physical plan"
   ]
  },
  {
   "cell_type": "code",
   "execution_count": 16,
   "id": "ed9f539d-4a16-4306-9038-0cfd8aa94e07",
   "metadata": {},
   "outputs": [
    {
     "data": {
      "text/plain": [
       "DataFrame[cust_id: string, name: string, age: string, gender: string, birthday: string, zip: string, city: string, customer_group: string]"
      ]
     },
     "execution_count": 16,
     "metadata": {},
     "output_type": "execute_result"
    }
   ],
   "source": [
    "df_base.cache() "
   ]
  },
  {
   "cell_type": "code",
   "execution_count": 17,
   "id": "390e8847-43bf-4558-95e4-a21215b47fd5",
   "metadata": {},
   "outputs": [],
   "source": [
    "df3 = (\n",
    "    df_base\n",
    "    .withColumn(\"test_column_1\", F.lit(\"test_column_1\"))\n",
    "    .withColumn(\"birth_year\", F.split(\"birthday\", \"/\").getItem(2))\n",
    ")"
   ]
  },
  {
   "cell_type": "code",
   "execution_count": 19,
   "id": "64a7f273-f1c2-4ec2-8784-a49ab9ddab5d",
   "metadata": {},
   "outputs": [
    {
     "name": "stdout",
     "output_type": "stream",
     "text": [
      "== Parsed Logical Plan ==\n",
      "'Project [cust_id#0, name#1, age#2, gender#3, birthday#4, zip#5, city#6, customer_group#44, test_column_1#176, split('birthday, /, -1)[2] AS birth_year#186]\n",
      "+- Project [cust_id#0, name#1, age#2, gender#3, birthday#4, zip#5, city#6, customer_group#44, test_column_1 AS test_column_1#176]\n",
      "   +- Project [cust_id#0, name#1, age#2, gender#3, birthday#4, zip#5, city#6, customer_group#44]\n",
      "      +- Project [cust_id#0, name#1, age#2, gender#3, birthday#4, zip#5, city#6, CASE WHEN ((cast(age#2 as int) >= 20) AND (cast(age#2 as int) <= 30)) THEN young WHEN ((cast(age#2 as int) >= 31) AND (cast(age#2 as int) <= 50)) THEN mid WHEN (cast(age#2 as int) > 51) THEN old ELSE kid END AS customer_group#44]\n",
      "         +- Filter (city#6 = boston)\n",
      "            +- Relation [cust_id#0,name#1,age#2,gender#3,birthday#4,zip#5,city#6] parquet\n",
      "\n",
      "== Analyzed Logical Plan ==\n",
      "cust_id: string, name: string, age: string, gender: string, birthday: string, zip: string, city: string, customer_group: string, test_column_1: string, birth_year: string\n",
      "Project [cust_id#0, name#1, age#2, gender#3, birthday#4, zip#5, city#6, customer_group#44, test_column_1#176, split(birthday#4, /, -1)[2] AS birth_year#186]\n",
      "+- Project [cust_id#0, name#1, age#2, gender#3, birthday#4, zip#5, city#6, customer_group#44, test_column_1 AS test_column_1#176]\n",
      "   +- Project [cust_id#0, name#1, age#2, gender#3, birthday#4, zip#5, city#6, customer_group#44]\n",
      "      +- Project [cust_id#0, name#1, age#2, gender#3, birthday#4, zip#5, city#6, CASE WHEN ((cast(age#2 as int) >= 20) AND (cast(age#2 as int) <= 30)) THEN young WHEN ((cast(age#2 as int) >= 31) AND (cast(age#2 as int) <= 50)) THEN mid WHEN (cast(age#2 as int) > 51) THEN old ELSE kid END AS customer_group#44]\n",
      "         +- Filter (city#6 = boston)\n",
      "            +- Relation [cust_id#0,name#1,age#2,gender#3,birthday#4,zip#5,city#6] parquet\n",
      "\n",
      "== Optimized Logical Plan ==\n",
      "Project [cust_id#0, name#1, age#2, gender#3, birthday#4, zip#5, city#6, customer_group#44, test_column_1 AS test_column_1#176, split(birthday#4, /, -1)[2] AS birth_year#186]\n",
      "+- InMemoryRelation [cust_id#0, name#1, age#2, gender#3, birthday#4, zip#5, city#6, customer_group#44], StorageLevel(disk, memory, deserialized, 1 replicas)\n",
      "      +- *(1) Project [cust_id#0, name#1, age#2, gender#3, birthday#4, zip#5, city#6, CASE WHEN ((cast(age#2 as int) >= 20) AND (cast(age#2 as int) <= 30)) THEN young WHEN ((cast(age#2 as int) >= 31) AND (cast(age#2 as int) <= 50)) THEN mid WHEN (cast(age#2 as int) > 51) THEN old ELSE kid END AS customer_group#44]\n",
      "         +- *(1) Filter (isnotnull(city#6) AND (city#6 = boston))\n",
      "            +- *(1) ColumnarToRow\n",
      "               +- FileScan parquet [cust_id#0,name#1,age#2,gender#3,birthday#4,zip#5,city#6] Batched: true, DataFilters: [isnotnull(city#6), (city#6 = boston)], Format: Parquet, Location: InMemoryFileIndex(1 paths)[file:/home/jovyan/part-00000-7951754c-3166-4cb7-8227-a5760c654c14-c000..., PartitionFilters: [], PushedFilters: [IsNotNull(city), EqualTo(city,boston)], ReadSchema: struct<cust_id:string,name:string,age:string,gender:string,birthday:string,zip:string,city:string>\n",
      "\n",
      "== Physical Plan ==\n",
      "AdaptiveSparkPlan isFinalPlan=false\n",
      "+- Project [cust_id#0, name#1, age#2, gender#3, birthday#4, zip#5, city#6, customer_group#44, test_column_1 AS test_column_1#176, split(birthday#4, /, -1)[2] AS birth_year#186]\n",
      "   +- InMemoryTableScan [age#2, birthday#4, city#6, cust_id#0, customer_group#44, gender#3, name#1, zip#5]\n",
      "         +- InMemoryRelation [cust_id#0, name#1, age#2, gender#3, birthday#4, zip#5, city#6, customer_group#44], StorageLevel(disk, memory, deserialized, 1 replicas)\n",
      "               +- *(1) Project [cust_id#0, name#1, age#2, gender#3, birthday#4, zip#5, city#6, CASE WHEN ((cast(age#2 as int) >= 20) AND (cast(age#2 as int) <= 30)) THEN young WHEN ((cast(age#2 as int) >= 31) AND (cast(age#2 as int) <= 50)) THEN mid WHEN (cast(age#2 as int) > 51) THEN old ELSE kid END AS customer_group#44]\n",
      "                  +- *(1) Filter (isnotnull(city#6) AND (city#6 = boston))\n",
      "                     +- *(1) ColumnarToRow\n",
      "                        +- FileScan parquet [cust_id#0,name#1,age#2,gender#3,birthday#4,zip#5,city#6] Batched: true, DataFilters: [isnotnull(city#6), (city#6 = boston)], Format: Parquet, Location: InMemoryFileIndex(1 paths)[file:/home/jovyan/part-00000-7951754c-3166-4cb7-8227-a5760c654c14-c000..., PartitionFilters: [], PushedFilters: [IsNotNull(city), EqualTo(city,boston)], ReadSchema: struct<cust_id:string,name:string,age:string,gender:string,birthday:string,zip:string,city:string>\n",
      "\n"
     ]
    }
   ],
   "source": [
    "df3.explain(True)"
   ]
  },
  {
   "cell_type": "code",
   "execution_count": null,
   "id": "5d992dba-52af-4326-9bfe-629f1e5bf9a2",
   "metadata": {},
   "outputs": [],
   "source": [
    "== Physical Plan ==\n",
    "AdaptiveSparkPlan isFinalPlan=false\n",
    "+- Project [cust_id#0, name#1, age#2, gender#3, birthday#4, zip#5, city#6, customer_group#44, test_column_1 AS test_column_1#176, split(birthday#4, /, -1)[2] AS birth_year#186]\n",
    "   +- InMemoryTableScan [age#2, birthday#4, city#6, cust_id#0, customer_group#44, gender#3, name#1, zip#5]\n",
    "         +- InMemoryRelation [cust_id#0, name#1, age#2, gender#3, birthday#4, zip#5, city#6, customer_group#44], StorageLevel(disk, memory, deserialized, 1 replicas)\n",
    "               +- *(1) Project [cust_id#0, name#1, age#2, gender#3, birthday#4, zip#5, city#6, CASE WHEN ((cast(age#2 as int) >= 20) AND (cast(age#2 as int) <= 30)) THEN young WHEN ((cast(age#2 as int) >= 31) AND (cast(age#2 as int) <= 50)) THEN mid WHEN (cast(age#2 as int) > 51) THEN old ELSE kid END AS customer_group#44]\n",
    "                  +- *(1) Filter (isnotnull(city#6) AND (city#6 = boston))\n",
    "                     +- *(1) ColumnarToRow\n",
    "                        +- FileScan parquet [cust_id#0,name#1,age#2,gender#3,birthday#4,zip#5,city#6] Batched: true, DataFilters: [isnotnull(city#6), (city#6 = boston)], Format: Parquet, Location: InMemoryFileIndex(1 paths)[file:/home/jovyan/part-00000-7951754c-3166-4cb7-8227-a5760c654c14-c000..., PartitionFilters: [], PushedFilters: [IsNotNull(city), EqualTo(city,boston)], ReadSchema: struct<cust_id:string,name:string,age:string,gender:string,birthday:string,zip:string,city:string>"
   ]
  },
  {
   "cell_type": "code",
   "execution_count": 18,
   "id": "f0529ca8-3a77-485e-bf40-f5a564736437",
   "metadata": {},
   "outputs": [],
   "source": [
    "df4 = (\n",
    "    df_base\n",
    "    .withColumn(\"test_column_2\", F.lit(\"test_column_2\"))\n",
    "    .withColumn(\"birth_month\", F.split(\"birthday\", \"/\").getItem(1))\n",
    ")"
   ]
  },
  {
   "cell_type": "code",
   "execution_count": 20,
   "id": "5f251966-c8a8-4270-8bc9-282532104c9a",
   "metadata": {},
   "outputs": [
    {
     "name": "stdout",
     "output_type": "stream",
     "text": [
      "== Parsed Logical Plan ==\n",
      "'Project [cust_id#0, name#1, age#2, gender#3, birthday#4, zip#5, city#6, customer_group#44, test_column_2#197, split('birthday, /, -1)[1] AS birth_month#207]\n",
      "+- Project [cust_id#0, name#1, age#2, gender#3, birthday#4, zip#5, city#6, customer_group#44, test_column_2 AS test_column_2#197]\n",
      "   +- Project [cust_id#0, name#1, age#2, gender#3, birthday#4, zip#5, city#6, customer_group#44]\n",
      "      +- Project [cust_id#0, name#1, age#2, gender#3, birthday#4, zip#5, city#6, CASE WHEN ((cast(age#2 as int) >= 20) AND (cast(age#2 as int) <= 30)) THEN young WHEN ((cast(age#2 as int) >= 31) AND (cast(age#2 as int) <= 50)) THEN mid WHEN (cast(age#2 as int) > 51) THEN old ELSE kid END AS customer_group#44]\n",
      "         +- Filter (city#6 = boston)\n",
      "            +- Relation [cust_id#0,name#1,age#2,gender#3,birthday#4,zip#5,city#6] parquet\n",
      "\n",
      "== Analyzed Logical Plan ==\n",
      "cust_id: string, name: string, age: string, gender: string, birthday: string, zip: string, city: string, customer_group: string, test_column_2: string, birth_month: string\n",
      "Project [cust_id#0, name#1, age#2, gender#3, birthday#4, zip#5, city#6, customer_group#44, test_column_2#197, split(birthday#4, /, -1)[1] AS birth_month#207]\n",
      "+- Project [cust_id#0, name#1, age#2, gender#3, birthday#4, zip#5, city#6, customer_group#44, test_column_2 AS test_column_2#197]\n",
      "   +- Project [cust_id#0, name#1, age#2, gender#3, birthday#4, zip#5, city#6, customer_group#44]\n",
      "      +- Project [cust_id#0, name#1, age#2, gender#3, birthday#4, zip#5, city#6, CASE WHEN ((cast(age#2 as int) >= 20) AND (cast(age#2 as int) <= 30)) THEN young WHEN ((cast(age#2 as int) >= 31) AND (cast(age#2 as int) <= 50)) THEN mid WHEN (cast(age#2 as int) > 51) THEN old ELSE kid END AS customer_group#44]\n",
      "         +- Filter (city#6 = boston)\n",
      "            +- Relation [cust_id#0,name#1,age#2,gender#3,birthday#4,zip#5,city#6] parquet\n",
      "\n",
      "== Optimized Logical Plan ==\n",
      "Project [cust_id#0, name#1, age#2, gender#3, birthday#4, zip#5, city#6, customer_group#44, test_column_2 AS test_column_2#197, split(birthday#4, /, -1)[1] AS birth_month#207]\n",
      "+- InMemoryRelation [cust_id#0, name#1, age#2, gender#3, birthday#4, zip#5, city#6, customer_group#44], StorageLevel(disk, memory, deserialized, 1 replicas)\n",
      "      +- *(1) Project [cust_id#0, name#1, age#2, gender#3, birthday#4, zip#5, city#6, CASE WHEN ((cast(age#2 as int) >= 20) AND (cast(age#2 as int) <= 30)) THEN young WHEN ((cast(age#2 as int) >= 31) AND (cast(age#2 as int) <= 50)) THEN mid WHEN (cast(age#2 as int) > 51) THEN old ELSE kid END AS customer_group#44]\n",
      "         +- *(1) Filter (isnotnull(city#6) AND (city#6 = boston))\n",
      "            +- *(1) ColumnarToRow\n",
      "               +- FileScan parquet [cust_id#0,name#1,age#2,gender#3,birthday#4,zip#5,city#6] Batched: true, DataFilters: [isnotnull(city#6), (city#6 = boston)], Format: Parquet, Location: InMemoryFileIndex(1 paths)[file:/home/jovyan/part-00000-7951754c-3166-4cb7-8227-a5760c654c14-c000..., PartitionFilters: [], PushedFilters: [IsNotNull(city), EqualTo(city,boston)], ReadSchema: struct<cust_id:string,name:string,age:string,gender:string,birthday:string,zip:string,city:string>\n",
      "\n",
      "== Physical Plan ==\n",
      "AdaptiveSparkPlan isFinalPlan=false\n",
      "+- Project [cust_id#0, name#1, age#2, gender#3, birthday#4, zip#5, city#6, customer_group#44, test_column_2 AS test_column_2#197, split(birthday#4, /, -1)[1] AS birth_month#207]\n",
      "   +- InMemoryTableScan [age#2, birthday#4, city#6, cust_id#0, customer_group#44, gender#3, name#1, zip#5]\n",
      "         +- InMemoryRelation [cust_id#0, name#1, age#2, gender#3, birthday#4, zip#5, city#6, customer_group#44], StorageLevel(disk, memory, deserialized, 1 replicas)\n",
      "               +- *(1) Project [cust_id#0, name#1, age#2, gender#3, birthday#4, zip#5, city#6, CASE WHEN ((cast(age#2 as int) >= 20) AND (cast(age#2 as int) <= 30)) THEN young WHEN ((cast(age#2 as int) >= 31) AND (cast(age#2 as int) <= 50)) THEN mid WHEN (cast(age#2 as int) > 51) THEN old ELSE kid END AS customer_group#44]\n",
      "                  +- *(1) Filter (isnotnull(city#6) AND (city#6 = boston))\n",
      "                     +- *(1) ColumnarToRow\n",
      "                        +- FileScan parquet [cust_id#0,name#1,age#2,gender#3,birthday#4,zip#5,city#6] Batched: true, DataFilters: [isnotnull(city#6), (city#6 = boston)], Format: Parquet, Location: InMemoryFileIndex(1 paths)[file:/home/jovyan/part-00000-7951754c-3166-4cb7-8227-a5760c654c14-c000..., PartitionFilters: [], PushedFilters: [IsNotNull(city), EqualTo(city,boston)], ReadSchema: struct<cust_id:string,name:string,age:string,gender:string,birthday:string,zip:string,city:string>\n",
      "\n"
     ]
    }
   ],
   "source": [
    "df4.explain(True)"
   ]
  },
  {
   "cell_type": "code",
   "execution_count": null,
   "id": "4bb6e638-a9ca-43c7-8356-3c1ffcacd60a",
   "metadata": {},
   "outputs": [],
   "source": [
    "== Physical Plan ==\n",
    "AdaptiveSparkPlan isFinalPlan=false\n",
    "+- Project [cust_id#0, name#1, age#2, gender#3, birthday#4, zip#5, city#6, customer_group#44, test_column_2 AS test_column_2#197, split(birthday#4, /, -1)[1] AS birth_month#207]\n",
    "   +- InMemoryTableScan [age#2, birthday#4, city#6, cust_id#0, customer_group#44, gender#3, name#1, zip#5]\n",
    "         +- InMemoryRelation [cust_id#0, name#1, age#2, gender#3, birthday#4, zip#5, city#6, customer_group#44], StorageLevel(disk, memory, deserialized, 1 replicas)\n",
    "               +- *(1) Project [cust_id#0, name#1, age#2, gender#3, birthday#4, zip#5, city#6, CASE WHEN ((cast(age#2 as int) >= 20) AND (cast(age#2 as int) <= 30)) THEN young WHEN ((cast(age#2 as int) >= 31) AND (cast(age#2 as int) <= 50)) THEN mid WHEN (cast(age#2 as int) > 51) THEN old ELSE kid END AS customer_group#44]\n",
    "                  +- *(1) Filter (isnotnull(city#6) AND (city#6 = boston))\n",
    "                     +- *(1) ColumnarToRow\n",
    "                        +- FileScan parquet [cust_id#0,name#1,age#2,gender#3,birthday#4,zip#5,city#6] Batched: true, DataFilters: [isnotnull(city#6), (city#6 = boston)], Format: Parquet, Location: InMemoryFileIndex(1 paths)[file:/home/jovyan/part-00000-7951754c-3166-4cb7-8227-a5760c654c14-c000..., PartitionFilters: [], PushedFilters: [IsNotNull(city), EqualTo(city,boston)], ReadSchema: struct<cust_id:string,name:string,age:string,gender:string,birthday:string,zip:string,city:string>\n"
   ]
  },
  {
   "cell_type": "code",
   "execution_count": null,
   "id": "6ebfbe3e-10cd-4d7b-abea-21d8f5e82890",
   "metadata": {},
   "outputs": [],
   "source": [
    "StorageLevel Types:\n",
    "(As of Spark 3.4)\n",
    "\n",
    "DISK_ONLY: CPU efficient, memory efficient, slow to access, data is serialized when stored on disk\n",
    "\n",
    "DISK_ONLY_2: disk only, replicated 2x\n",
    "\n",
    "DISK_ONLY_3: disk only, replicated 3x\n",
    "\n",
    "MEMORY_AND_DISK: spills to disk if there's no space in memory\n",
    "\n",
    "MEMORY_AND_DISK_2: memory and disk, replicated 2x\n",
    "\n",
    "MEMORY_AND_DISK_DESER(default): same as MEMORY_AND_DISK, deserialized in both for fast access\n",
    "\n",
    "MEMORY_ONLY: CPU efficient, memory intensive\n",
    "\n",
    "MEMORY_ONLY_2: memory only, replicated 2x - for resilience, if one executor fails"
   ]
  },
  {
   "cell_type": "code",
   "execution_count": null,
   "id": "7a815503-2149-4584-b3d4-68d1e84d30f8",
   "metadata": {},
   "outputs": [],
   "source": [
    "When to use what?\n",
    "Storage Level    Space used  CPU time  In memory  On-disk  Serialized\n",
    "---------------------------------------------------------------------\n",
    "MEMORY_ONLY          High        Low       Y          N        N         \n",
    "MEMORY_ONLY_SER      Low         High      Y          N        Y     \n",
    "MEMORY_AND_DISK      High        Medium    Some       Some     Some  \n",
    "MEMORY_AND_DISK_SER  Low         High      Some       Some     Y     \n",
    "DISK_ONLY            Low         High      N          Y        Y     "
   ]
  },
  {
   "cell_type": "code",
   "execution_count": 21,
   "id": "049c3294-17ed-4f12-a193-785893509fbf",
   "metadata": {},
   "outputs": [
    {
     "data": {
      "text/plain": [
       "DataFrame[cust_id: string, name: string, age: string, gender: string, birthday: string, zip: string, city: string, customer_group: string]"
      ]
     },
     "execution_count": 21,
     "metadata": {},
     "output_type": "execute_result"
    },
    {
     "data": {
      "text/plain": [
       "DataFrame[cust_id: string, name: string, age: string, gender: string, birthday: string, zip: string, city: string, customer_group: string]"
      ]
     },
     "execution_count": 21,
     "metadata": {},
     "output_type": "execute_result"
    },
    {
     "name": "stdout",
     "output_type": "stream",
     "text": [
      "+----------+--------------+---+------+---------+-----+------+--------------+-------------+----------+\n",
      "|cust_id   |name          |age|gender|birthday |zip  |city  |customer_group|test_column_1|birth_year|\n",
      "+----------+--------------+---+------+---------+-----+------+--------------+-------------+----------+\n",
      "|C007YEYTX9|Aaron Abbott  |34 |Female|7/13/1991|97823|boston|mid           |test_column_1|1991      |\n",
      "|C08XAQUY73|Aaron Lambert |54 |Female|11/5/1966|75218|boston|old           |test_column_1|1966      |\n",
      "|C094P1VXF9|Aaron Lindsey |24 |Male  |9/21/1990|29399|boston|young         |test_column_1|1990      |\n",
      "|C097SHE1EF|Aaron Lopez   |22 |Female|4/18/2001|82129|boston|young         |test_column_1|2001      |\n",
      "|C0DTC6436T|Aaron Schwartz|52 |Female|7/9/1962 |57192|boston|old           |test_column_1|1962      |\n",
      "+----------+--------------+---+------+---------+-----+------+--------------+-------------+----------+\n",
      "only showing top 5 rows\n",
      "\n"
     ]
    }
   ],
   "source": [
    "df_base.unpersist()\n",
    "df_base.persist(StorageLevel.MEMORY_ONLY)\n",
    "\n",
    "df2 = (\n",
    "    df_base\n",
    "    .withColumn(\"test_column_1\", F.lit(\"test_column_1\"))\n",
    "    .withColumn(\"birth_year\", F.split(\"birthday\", \"/\").getItem(2))\n",
    ")\n",
    "\n",
    "df1.show(5, False)"
   ]
  },
  {
   "cell_type": "code",
   "execution_count": 22,
   "id": "a6673c10-052d-44fe-a821-3a80c95d20bf",
   "metadata": {},
   "outputs": [],
   "source": [
    "spark.stop()"
   ]
  },
  {
   "cell_type": "code",
   "execution_count": null,
   "id": "73d299bb-152c-4ff6-ab64-9533a44a647a",
   "metadata": {},
   "outputs": [],
   "source": []
  }
 ],
 "metadata": {
  "kernelspec": {
   "display_name": "Python 3 (ipykernel)",
   "language": "python",
   "name": "python3"
  },
  "language_info": {
   "codemirror_mode": {
    "name": "ipython",
    "version": 3
   },
   "file_extension": ".py",
   "mimetype": "text/x-python",
   "name": "python",
   "nbconvert_exporter": "python",
   "pygments_lexer": "ipython3",
   "version": "3.11.6"
  }
 },
 "nbformat": 4,
 "nbformat_minor": 5
}
